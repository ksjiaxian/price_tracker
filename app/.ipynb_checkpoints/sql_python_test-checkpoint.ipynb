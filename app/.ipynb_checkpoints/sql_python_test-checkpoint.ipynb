{
 "cells": [
  {
   "cell_type": "code",
   "execution_count": 3,
   "metadata": {},
   "outputs": [],
   "source": [
    "import cx_Oracle"
   ]
  },
  {
   "cell_type": "code",
   "execution_count": 4,
   "metadata": {},
   "outputs": [],
   "source": [
    "username = 'admin'\n",
    "password = 'password'\n",
    "dsn = 'cis550pricetracker.cgcukgcycu5f.us-east-1.rds.amazonaws.com/CIS550DB'\n",
    "port = 1512\n",
    "encode = 'UTF-8'"
   ]
  },
  {
   "cell_type": "code",
   "execution_count": 20,
   "metadata": {},
   "outputs": [],
   "source": [
    "item = \"AMZN\"\n",
    "kind = \"stocks\"\n",
    "query = \"SELECT COUNT(dateID) FROM \" + kind + \" s WHERE Exists (SELECT dateID, \" + item + \" FROM \" + \\\n",
    "\"Stocks s WHERE DateID >= 20100101) AND AAPL <> 0 AND DateID >= 20100101;\"\""
   ]
  },
  {
   "cell_type": "code",
   "execution_count": 21,
   "metadata": {},
   "outputs": [
    {
     "name": "stdout",
     "output_type": "stream",
     "text": [
      "yay\n",
      "11.2.0.4.0\n",
      "('Apple Inc. is an American multinational technology company headquartered in Cupertino, California, that designs, develops, and sells consumer electronics, computer software, and online services. It is considered one of the Big Four technology companies, alongside Amazon, Google, and Microsoft.',)\n"
     ]
    }
   ],
   "source": [
    "connection = None\n",
    "try:\n",
    "    connection = cx_Oracle.connect(\n",
    "        username,\n",
    "        password,\n",
    "        dsn)\n",
    "\n",
    "    # show the version of the Oracle Database\n",
    "    print('yay')\n",
    "    print(connection.version)\n",
    "    connection.cursor\n",
    "         \n",
    "except cx_Oracle.Error as error:\n",
    "    print(error)\n",
    "    connection.close()\n",
    "\n",
    "c = connection.cursor() \n",
    "c.execute(query) \n",
    "for i in c:\n",
    "    print(i)"
   ]
  },
  {
   "cell_type": "code",
   "execution_count": 92,
   "metadata": {},
   "outputs": [],
   "source": [
    "item = \"AAPL\"\n",
    "kind = \"stocks\"\n",
    "def get_q9(item, kind):\n",
    "    if (item == \"SP\" or item == \"NASDAQ\" or item == \"DOW\"):\n",
    "        kind = \"Indexes\"\n",
    "    query = \"SELECT ((t.today_item_price - x.yesterday_item_price)/x.yesterday_item_price*100) AS item_return, 17.067 AS tbill_return \" \\\n",
    "            \"FROM (SELECT s.\" + item + \" as today_item_price FROM \" + kind + \" s WHERE s.dateID = 20200323) t, \" + \\\n",
    "            \"(SELECT s.\" + item + \" as yesterday_item_price FROM \" + kind + \" s WHERE s.dateID = 20170103) x\"\n",
    "    connection = None\n",
    "    try:\n",
    "        connection = cx_Oracle.connect(\n",
    "            username,\n",
    "            password,\n",
    "            dsn)\n",
    "        connection.cursor            \n",
    "    except cx_Oracle.Error as error:\n",
    "        connection.close()\n",
    "\n",
    "    c = connection.cursor() \n",
    "    c.execute(query) \n",
    "    first = [str(round(i[0],2)) for i in c][0]\n",
    "    c = connection.cursor() \n",
    "    c.execute(query) \n",
    "    second = [str(round(i[1],2)) for i in c][0]\n",
    "    return first, second\n",
    "\n",
    "\n"
   ]
  },
  {
   "cell_type": "code",
   "execution_count": 94,
   "metadata": {},
   "outputs": [],
   "source": [
    "first, second = get_q8(item, kind)"
   ]
  },
  {
   "cell_type": "code",
   "execution_count": 96,
   "metadata": {},
   "outputs": [
    {
     "name": "stdout",
     "output_type": "stream",
     "text": [
      "-0.9\n",
      "102.7\n"
     ]
    }
   ],
   "source": [
    "print(first)\n",
    "print(second)"
   ]
  },
  {
   "cell_type": "code",
   "execution_count": null,
   "metadata": {},
   "outputs": [],
   "source": []
  }
 ],
 "metadata": {
  "kernelspec": {
   "display_name": "Python 3",
   "language": "python",
   "name": "python3"
  },
  "language_info": {
   "codemirror_mode": {
    "name": "ipython",
    "version": 3
   },
   "file_extension": ".py",
   "mimetype": "text/x-python",
   "name": "python",
   "nbconvert_exporter": "python",
   "pygments_lexer": "ipython3",
   "version": "3.6.8"
  }
 },
 "nbformat": 4,
 "nbformat_minor": 2
}
