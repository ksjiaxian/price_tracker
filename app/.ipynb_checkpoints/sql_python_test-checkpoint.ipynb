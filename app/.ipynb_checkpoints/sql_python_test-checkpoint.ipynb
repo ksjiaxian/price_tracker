{
 "cells": [
  {
   "cell_type": "code",
   "execution_count": 1,
   "metadata": {},
   "outputs": [],
   "source": [
    "import cx_Oracle"
   ]
  },
  {
   "cell_type": "code",
   "execution_count": 1,
   "metadata": {},
   "outputs": [],
   "source": [
    "username = 'admin'\n",
    "password = 'password'\n",
    "dsn = 'cis550pricetracker.cgcukgcycu5f.us-east-1.rds.amazonaws.com/CIS550DB'\n",
    "port = 1512\n",
    "encode = 'UTF-8'"
   ]
  },
  {
   "cell_type": "code",
   "execution_count": 6,
   "metadata": {},
   "outputs": [
    {
     "ename": "SyntaxError",
     "evalue": "EOL while scanning string literal (<ipython-input-6-9d34a7a2b983>, line 21)",
     "output_type": "error",
     "traceback": [
      "\u001b[0;36m  File \u001b[0;32m\"<ipython-input-6-9d34a7a2b983>\"\u001b[0;36m, line \u001b[0;32m21\u001b[0m\n\u001b[0;31m    WHERE dateID = 20060323) a \\\u001b[0m\n\u001b[0m                                 \n^\u001b[0m\n\u001b[0;31mSyntaxError\u001b[0m\u001b[0;31m:\u001b[0m EOL while scanning string literal\n"
     ]
    }
   ],
   "source": [
    "connection = None\n",
    "try:\n",
    "    connection = cx_Oracle.connect(\n",
    "        username,\n",
    "        password,\n",
    "        dsn)\n",
    "\n",
    "    # show the version of the Oracle Database\n",
    "    print('yay')\n",
    "    print(connection.version)\n",
    "    connection.cursor\n",
    "         \n",
    "except cx_Oracle.Error as error:\n",
    "    print(error)\n",
    "    connection.close()\n",
    "\n",
    "c = connection.cursor() \n",
    "c.execute('WITH Sears AS (SELECT (SHLDQ/AMOUNT) as adjusted_sears FROM (SELECT dateID, SHLDQ FROM Stocks s WHERE dateID = 20060323) a JOIN Dates d ON a.dateID = d.dateID \\\n",
    "JOIN Inflation i ON d.Year = i.Year), \\\n",
    "Valentino AS (SELECT (Valentino/AMOUNT) as adjusted_valentino \\\n",
    "FROM (SELECT dateID, Valentino \\\n",
    "FROM Commodities c \\\n",
    "WHERE dateID = 20060323) a \\\n",
    "JOIN Dates d ON a.dateID = d.dateID \\\n",
    "JOIN Inflation i ON d.Year = i.Year) \\\n",
    "SELECT GREATEST(v.adjusted_valentino, s.adjusted_sears) as higher_value \\\n",
    "FROM Sears s, Valentino v;') \n",
    "for i in c:\n",
    "    print(i)"
   ]
  },
  {
   "cell_type": "code",
   "execution_count": 139,
   "metadata": {},
   "outputs": [],
   "source": [
    "class Cart:\n",
    "    # Represents total cash in the bank\n",
    "    total_cash = 100000.00\n",
    "    # Dictionary of all stocks/items in portfolio\n",
    "    # (Share, Date) -> (Number of Shares, Share Price)\n",
    "    portfolio = {}\n",
    "\n",
    "    # num_shares - int, share_price (infl. adj) - float, transaction - string \"sell/buy\"\n",
    "    # Return True - Transaction successful, total update\n",
    "    # Return False - Transaction failed, not enough money\n",
    "    def updateTotal(self, num_shares, share_price, transaction):\n",
    "        trans_amount = num_shares * share_price\n",
    "        if transaction == \"sell\":\n",
    "            new_total_cash = self.total_cash + trans_amount\n",
    "            self.total_cash = new_total_cash\n",
    "            return True\n",
    "        else:\n",
    "            print('buy')\n",
    "            new_total_cash = self.total_cash - trans_amount\n",
    "            # This means transaction price is too high\n",
    "            if (new_total_cash < 0):\n",
    "                return False\n",
    "            else:\n",
    "                print('update')\n",
    "                self.total_cash = new_total_cash\n",
    "                return True\n",
    "    \n",
    "    # share_name - string, share_date - int, num_shares - int, share_price - float\n",
    "    # Return True - Transaction successful, portfolio update\n",
    "    # Return False - Transaction unsuccessful, portfolio won't update\n",
    "    # Assume that all inputs are correct\n",
    "    def addPortfolio(self, share_name, share_date, num_shares, share_price):\n",
    "        # First make the tuple for the portfolio dictionary\n",
    "        key_tuple = (share_name, share_date)\n",
    "        # Make sure the total is valid - must return true (only buy in add portfolio)\n",
    "        # This also helps us update the bank\n",
    "        success = self.updateTotal(num_shares, share_price, \"buy\")\n",
    "        if success:\n",
    "            # Check if share/date is already in dict, then update value\n",
    "            if key_tuple in self.portfolio.keys():\n",
    "                curr_num_shares = self.portfolio[key_tuple][0]\n",
    "                new_num_shares = curr_num_shares + num_shares\n",
    "                # Replace tuple - share price is technically the same!\n",
    "                value_tuple = (new_num_shares, share_price)\n",
    "                self.portfolio[key_tuple] = value_tuple\n",
    "                return True\n",
    "            # Else make a new key->value pairing\n",
    "            else:\n",
    "                value_tuple = (num_shares, share_price)\n",
    "                self.portfolio[key_tuple] = value_tuple\n",
    "                return True\n",
    "\n",
    "    # share_name - string, share_date - int, num_shares - int, share_price - float\n",
    "    # Return True - Transaction successful, portfolio update\n",
    "    # Return False - Transaction unsuccessful, portfolio won't update\n",
    "    # Assume that all inputs are correct\n",
    "    def removePortfolio(self, share_name, share_date, num_shares, share_price):\n",
    "        # First make the tuple for the portfolio dictionary\n",
    "        key_tuple = (share_name, share_date)\n",
    "        if key_tuple in self.portfolio.keys():\n",
    "            # Update the cash total\n",
    "            success = self.updateTotal(num_shares, share_price, \"sell\")\n",
    "            # Check how many \n",
    "            curr_num_shares = self.portfolio[key_tuple][0]\n",
    "            print(curr_num_shares)\n",
    "            new_num_shares = curr_num_shares - num_shares\n",
    "            # Delete key if no shares left\n",
    "            if new_num_shares == 0:\n",
    "                del self.portfolio[key_tuple] \n",
    "                return True\n",
    "            # Update it otherwise \n",
    "            else:\n",
    "                value_tuple = (new_num_shares, share_price)\n",
    "                self.portfolio[key_tuple] = value_tuple\n",
    "                return True\n",
    "        # Else not possible to remove anything!\n",
    "        else:\n",
    "            return False\n",
    "\n",
    "\n",
    "    # Add functions to get total worth and curent worth of portfolio\n",
    "\n",
    "    def returnTotalCash(self):\n",
    "        return self.total_cash\n",
    "    \n",
    "    def returnPortfolio(self):\n",
    "        return self.portfolio\n"
   ]
  },
  {
   "cell_type": "code",
   "execution_count": 140,
   "metadata": {},
   "outputs": [],
   "source": [
    "cart = Cart()"
   ]
  },
  {
   "cell_type": "code",
   "execution_count": 141,
   "metadata": {},
   "outputs": [
    {
     "name": "stdout",
     "output_type": "stream",
     "text": [
      "buy\n",
      "update\n"
     ]
    },
    {
     "data": {
      "text/plain": [
       "True"
      ]
     },
     "execution_count": 141,
     "metadata": {},
     "output_type": "execute_result"
    }
   ],
   "source": [
    "cart.addPortfolio(\"AAPL\", 20200409, 5, 270.80)"
   ]
  },
  {
   "cell_type": "code",
   "execution_count": 142,
   "metadata": {},
   "outputs": [
    {
     "name": "stdout",
     "output_type": "stream",
     "text": [
      "{('AAPL', 20200409): (5, 270.8)}\n"
     ]
    }
   ],
   "source": [
    "print(cart.portfolio)"
   ]
  },
  {
   "cell_type": "code",
   "execution_count": 143,
   "metadata": {},
   "outputs": [
    {
     "name": "stdout",
     "output_type": "stream",
     "text": [
      "98646.0\n"
     ]
    }
   ],
   "source": [
    "print(cart.total_cash)"
   ]
  },
  {
   "cell_type": "code",
   "execution_count": 144,
   "metadata": {},
   "outputs": [
    {
     "data": {
      "text/plain": [
       "False"
      ]
     },
     "execution_count": 144,
     "metadata": {},
     "output_type": "execute_result"
    }
   ],
   "source": [
    "cart.addPortfolio(\"AAPL\", 20200407, 5, 270.80)"
   ]
  },
  {
   "cell_type": "code",
   "execution_count": 145,
   "metadata": {},
   "outputs": [
    {
     "name": "stdout",
     "output_type": "stream",
     "text": [
      "{('AAPL', 20200409): (5, 270.8)}\n"
     ]
    }
   ],
   "source": [
    "print(cart.portfolio)"
   ]
  },
  {
   "cell_type": "code",
   "execution_count": 146,
   "metadata": {},
   "outputs": [
    {
     "name": "stdout",
     "output_type": "stream",
     "text": [
      "98646.0\n"
     ]
    }
   ],
   "source": [
    "print(cart.total_cash)"
   ]
  },
  {
   "cell_type": "code",
   "execution_count": 147,
   "metadata": {},
   "outputs": [
    {
     "data": {
      "text/plain": [
       "False"
      ]
     },
     "execution_count": 147,
     "metadata": {},
     "output_type": "execute_result"
    }
   ],
   "source": [
    "cart.removePortfolio(\"AAPL\", 20200407, 1, 270.80)"
   ]
  },
  {
   "cell_type": "code",
   "execution_count": 148,
   "metadata": {},
   "outputs": [
    {
     "name": "stdout",
     "output_type": "stream",
     "text": [
      "98646.0\n"
     ]
    }
   ],
   "source": [
    "print(cart.total_cash)"
   ]
  },
  {
   "cell_type": "code",
   "execution_count": null,
   "metadata": {},
   "outputs": [],
   "source": []
  }
 ],
 "metadata": {
  "kernelspec": {
   "display_name": "Python 3",
   "language": "python",
   "name": "python3"
  },
  "language_info": {
   "codemirror_mode": {
    "name": "ipython",
    "version": 3
   },
   "file_extension": ".py",
   "mimetype": "text/x-python",
   "name": "python",
   "nbconvert_exporter": "python",
   "pygments_lexer": "ipython3",
   "version": "3.6.8"
  }
 },
 "nbformat": 4,
 "nbformat_minor": 2
}
