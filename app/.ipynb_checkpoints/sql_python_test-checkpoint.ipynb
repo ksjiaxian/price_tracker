{
 "cells": [
  {
   "cell_type": "code",
   "execution_count": 3,
   "metadata": {},
   "outputs": [],
   "source": [
    "import cx_Oracle"
   ]
  },
  {
   "cell_type": "code",
   "execution_count": 4,
   "metadata": {},
   "outputs": [],
   "source": [
    "username = 'admin'\n",
    "password = 'password'\n",
    "dsn = 'cis550pricetracker.cgcukgcycu5f.us-east-1.rds.amazonaws.com/CIS550DB'\n",
    "port = 1512\n",
    "encode = 'UTF-8'"
   ]
  },
  {
   "cell_type": "code",
   "execution_count": 52,
   "metadata": {},
   "outputs": [],
   "source": [
    "item = \"AAPL\"\n",
    "kind = \"stocks\"\n",
    "'''\n",
    "SELECT ((tm.today_mkt_price - xm.yesterday_mkt_price)/xm.yesterday_mkt_price*100) AS market_return, \n",
    "((t.today_item_price - x.yesterday_item_price)/x.yesterday_item_price*100) AS item_return\n",
    "FROM\n",
    "(SELECT s.AAPL as today_item_price\n",
    "FROM Stocks s \n",
    "WHERE s.dateID = 20200323) t,\n",
    "\n",
    "\n",
    "\n",
    "(SELECT s.AAPL as yesterday_item_price\n",
    "FROM Stocks s \n",
    "WHERE s.dateID = 20170103) x,\n",
    "\n",
    "\n",
    "\n",
    "(SELECT i.SP as today_mkt_price\n",
    "FROM Indexes i \n",
    "WHERE i.dateID = 20200323) tm,\n",
    "(SELECT i.SP as yesterday_mkt_price\n",
    "FROM Indexes i \n",
    "WHERE i.dateID = 20170103) xm;\n",
    "'''\n",
    "\n",
    "query = \"SELECT ((tm.today_mkt_price - xm.yesterday_mkt_price)/xm.yesterday_mkt_price*100) AS market_return, \" \\\n",
    "\"((t.today_item_price - x.yesterday_item_price)/x.yesterday_item_price*100) AS item_return FROM (SELECT s.\" + \\\n",
    "item + \" as today_item_price FROM \" + kind + \" s WHERE s.dateID = 20200323) t, (SELECT s.\" + item + \\\n",
    "\" as yesterday_item_price FROM \" + kind + \" s WHERE s.dateID = 20170103) x, (SELECT i.SP as today_mkt_price \" + \\\n",
    "\"FROM Indexes i WHERE i.dateID = 20200323) tm, (SELECT i.SP as yesterday_mkt_price FROM Indexes i WHERE i.dateID = 20170103) xm\""
   ]
  },
  {
   "cell_type": "code",
   "execution_count": 53,
   "metadata": {},
   "outputs": [
    {
     "name": "stdout",
     "output_type": "stream",
     "text": [
      "SELECT ((tm.today_mkt_price - xm.yesterday_mkt_price)/xm.yesterday_mkt_price*100) AS market_return, ((t.today_item_price - x.yesterday_item_price)/x.yesterday_item_price*100) AS item_return FROM (SELECT s.AAPL as today_item_price FROM stocks s WHERE s.dateID = 20200323) t, (SELECT s.AAPL as yesterday_item_price FROM stocks s WHERE s.dateID = 20170103) x, (SELECT i.SP as today_mkt_price FROM Indexes i WHERE i.dateID = 20200323) tm, (SELECT i.SP as yesterday_mkt_price FROM Indexes i WHERE i.dateID = 20170103) xm\n"
     ]
    }
   ],
   "source": [
    "print(query)"
   ]
  },
  {
   "cell_type": "code",
   "execution_count": 54,
   "metadata": {},
   "outputs": [
    {
     "name": "stdout",
     "output_type": "stream",
     "text": [
      "yay\n",
      "11.2.0.4.0\n",
      "(-0.9048511181089808, 102.70123769084832)\n"
     ]
    }
   ],
   "source": [
    "connection = None\n",
    "try:\n",
    "    connection = cx_Oracle.connect(\n",
    "        username,\n",
    "        password,\n",
    "        dsn)\n",
    "\n",
    "    # show the version of the Oracle Database\n",
    "    print('yay')\n",
    "    print(connection.version)\n",
    "    connection.cursor\n",
    "         \n",
    "except cx_Oracle.Error as error:\n",
    "    print(error)\n",
    "    connection.close()\n",
    "\n",
    "c = connection.cursor() \n",
    "c.execute(query) \n",
    "for i in c:\n",
    "    print(i)"
   ]
  },
  {
   "cell_type": "code",
   "execution_count": 90,
   "metadata": {},
   "outputs": [],
   "source": [
    "item = \"AAPL\"\n",
    "kind = \"stocks\"\n",
    "def get_q8(item, kind):\n",
    "    if (item == \"SP\" or item == \"NASDAQ\" or item == \"DOW\"):\n",
    "        kind = \"Indexes\"\n",
    "    query = \"SELECT ((tm.today_mkt_price - xm.yesterday_mkt_price)/xm.yesterday_mkt_price*100) AS market_return, \" \\\n",
    "            \"((t.today_item_price - x.yesterday_item_price)/x.yesterday_item_price*100) AS item_return FROM (SELECT s.\" + \\\n",
    "            item + \" as today_item_price FROM \" + kind + \" s WHERE s.dateID = 20200323) t, (SELECT s.\" + item + \\\n",
    "            \" as yesterday_item_price FROM \" + kind + \" s WHERE s.dateID = 20170103) x, (SELECT i.SP as today_mkt_price \" + \\\n",
    "            \"FROM Indexes i WHERE i.dateID = 20200323) tm, (SELECT i.SP as yesterday_mkt_price FROM Indexes i WHERE i.dateID = 20170103) xm\"\n",
    "    connection = None\n",
    "    try:\n",
    "        connection = cx_Oracle.connect(\n",
    "            username,\n",
    "            password,\n",
    "            dsn)\n",
    "        connection.cursor            \n",
    "    except cx_Oracle.Error as error:\n",
    "        connection.close()\n",
    "\n",
    "    c = connection.cursor() \n",
    "    c.execute(query) \n",
    "    first = [str(round(i[0],2)) for i in c][0]\n",
    "    c = connection.cursor() \n",
    "    c.execute(query) \n",
    "    second = [str(round(i[1],2)) for i in c][0]\n",
    "    return first, second\n",
    "\n",
    "\n"
   ]
  },
  {
   "cell_type": "code",
   "execution_count": 91,
   "metadata": {},
   "outputs": [
    {
     "ename": "IndexError",
     "evalue": "list index out of range",
     "output_type": "error",
     "traceback": [
      "\u001b[0;31m---------------------------------------------------------------------------\u001b[0m",
      "\u001b[0;31mIndexError\u001b[0m                                Traceback (most recent call last)",
      "\u001b[0;32m<ipython-input-91-773543d0078b>\u001b[0m in \u001b[0;36m<module>\u001b[0;34m\u001b[0m\n\u001b[0;32m----> 1\u001b[0;31m \u001b[0mfirst\u001b[0m \u001b[0;34m=\u001b[0m \u001b[0mget_q8\u001b[0m\u001b[0;34m(\u001b[0m\u001b[0mitem\u001b[0m\u001b[0;34m,\u001b[0m \u001b[0mkind\u001b[0m\u001b[0;34m)\u001b[0m\u001b[0;34m\u001b[0m\u001b[0;34m\u001b[0m\u001b[0m\n\u001b[0m",
      "\u001b[0;32m<ipython-input-90-0fde7b75a17f>\u001b[0m in \u001b[0;36mget_q8\u001b[0;34m(item, kind)\u001b[0m\n\u001b[1;32m     23\u001b[0m     \u001b[0mc_copy\u001b[0m \u001b[0;34m=\u001b[0m \u001b[0mc\u001b[0m\u001b[0;34m\u001b[0m\u001b[0;34m\u001b[0m\u001b[0m\n\u001b[1;32m     24\u001b[0m     \u001b[0mfirst\u001b[0m \u001b[0;34m=\u001b[0m \u001b[0;34m[\u001b[0m\u001b[0mstr\u001b[0m\u001b[0;34m(\u001b[0m\u001b[0mround\u001b[0m\u001b[0;34m(\u001b[0m\u001b[0mi\u001b[0m\u001b[0;34m[\u001b[0m\u001b[0;36m0\u001b[0m\u001b[0;34m]\u001b[0m\u001b[0;34m,\u001b[0m\u001b[0;36m2\u001b[0m\u001b[0;34m)\u001b[0m\u001b[0;34m)\u001b[0m \u001b[0;32mfor\u001b[0m \u001b[0mi\u001b[0m \u001b[0;32min\u001b[0m \u001b[0mc\u001b[0m\u001b[0;34m]\u001b[0m\u001b[0;34m[\u001b[0m\u001b[0;36m0\u001b[0m\u001b[0;34m]\u001b[0m\u001b[0;34m\u001b[0m\u001b[0;34m\u001b[0m\u001b[0m\n\u001b[0;32m---> 25\u001b[0;31m     \u001b[0msecond\u001b[0m \u001b[0;34m=\u001b[0m \u001b[0;34m[\u001b[0m\u001b[0mstr\u001b[0m\u001b[0;34m(\u001b[0m\u001b[0mround\u001b[0m\u001b[0;34m(\u001b[0m\u001b[0mi\u001b[0m\u001b[0;34m[\u001b[0m\u001b[0;36m1\u001b[0m\u001b[0;34m]\u001b[0m\u001b[0;34m,\u001b[0m\u001b[0;36m2\u001b[0m\u001b[0;34m)\u001b[0m\u001b[0;34m)\u001b[0m \u001b[0;32mfor\u001b[0m \u001b[0mi\u001b[0m \u001b[0;32min\u001b[0m \u001b[0mc_copy\u001b[0m\u001b[0;34m]\u001b[0m\u001b[0;34m[\u001b[0m\u001b[0;36m0\u001b[0m\u001b[0;34m]\u001b[0m\u001b[0;34m\u001b[0m\u001b[0;34m\u001b[0m\u001b[0m\n\u001b[0m\u001b[1;32m     26\u001b[0m     \u001b[0;32mreturn\u001b[0m \u001b[0mfirst\u001b[0m\u001b[0;34m,\u001b[0m \u001b[0msecond\u001b[0m\u001b[0;34m\u001b[0m\u001b[0;34m\u001b[0m\u001b[0m\n\u001b[1;32m     27\u001b[0m \u001b[0;34m\u001b[0m\u001b[0m\n",
      "\u001b[0;31mIndexError\u001b[0m: list index out of range"
     ]
    }
   ],
   "source": [
    "first = get_q8(item, kind)"
   ]
  },
  {
   "cell_type": "code",
   "execution_count": null,
   "metadata": {},
   "outputs": [],
   "source": [
    "print(first)"
   ]
  },
  {
   "cell_type": "code",
   "execution_count": null,
   "metadata": {},
   "outputs": [],
   "source": []
  }
 ],
 "metadata": {
  "kernelspec": {
   "display_name": "Python 3",
   "language": "python",
   "name": "python3"
  },
  "language_info": {
   "codemirror_mode": {
    "name": "ipython",
    "version": 3
   },
   "file_extension": ".py",
   "mimetype": "text/x-python",
   "name": "python",
   "nbconvert_exporter": "python",
   "pygments_lexer": "ipython3",
   "version": "3.6.8"
  }
 },
 "nbformat": 4,
 "nbformat_minor": 2
}
