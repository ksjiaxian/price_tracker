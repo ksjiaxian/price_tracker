{
 "cells": [
  {
   "cell_type": "code",
   "execution_count": 1,
   "metadata": {},
   "outputs": [],
   "source": [
    "import cx_Oracle"
   ]
  },
  {
   "cell_type": "code",
   "execution_count": 2,
   "metadata": {},
   "outputs": [],
   "source": [
    "username = 'admin'\n",
    "password = 'password'\n",
    "dsn = 'cis550pricetracker.cgcukgcycu5f.us-east-1.rds.amazonaws.com/CIS550DB'\n",
    "port = 1512\n",
    "encode = 'UTF-8'"
   ]
  },
  {
   "cell_type": "code",
   "execution_count": 4,
   "metadata": {},
   "outputs": [
    {
     "name": "stdout",
     "output_type": "stream",
     "text": [
      "yay\n",
      "11.2.0.4.0\n",
      "(20080808, 'The 2008 Summer Olympics starts with the 2008 Summer Olympics Opening Ceremony at the Beijing National Stadium. (The Christian Science Monitor)')\n"
     ]
    }
   ],
   "source": [
    "connection = None\n",
    "try:\n",
    "    connection = cx_Oracle.connect(\n",
    "        username,\n",
    "        password,\n",
    "        dsn)\n",
    "\n",
    "    # show the version of the Oracle Database\n",
    "    print('yay')\n",
    "    print(connection.version)\n",
    "    connection.cursor\n",
    "         \n",
    "except cx_Oracle.Error as error:\n",
    "    print(error)\n",
    "    connection.close()\n",
    "\n",
    "c = connection.cursor() \n",
    "c.execute('SELECT * FROM History WHERE dateID = 20080808')\n",
    "for i in c:\n",
    "    print(i)"
   ]
  },
  {
   "cell_type": "code",
   "execution_count": null,
   "metadata": {},
   "outputs": [],
   "source": []
  }
 ],
 "metadata": {
  "kernelspec": {
   "display_name": "Python 3",
   "language": "python",
   "name": "python3"
  },
  "language_info": {
   "codemirror_mode": {
    "name": "ipython",
    "version": 3
   },
   "file_extension": ".py",
   "mimetype": "text/x-python",
   "name": "python",
   "nbconvert_exporter": "python",
   "pygments_lexer": "ipython3",
   "version": "3.7.6"
  }
 },
 "nbformat": 4,
 "nbformat_minor": 2
}
