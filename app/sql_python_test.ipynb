{
 "cells": [
  {
   "cell_type": "code",
   "execution_count": 1,
   "metadata": {},
   "outputs": [],
   "source": [
    "import cx_Oracle"
   ]
  },
  {
   "cell_type": "code",
   "execution_count": 2,
   "metadata": {},
   "outputs": [],
   "source": [
    "username = 'admin'\n",
    "password = 'password'\n",
    "dsn = 'cis550pricetracker.cgcukgcycu5f.us-east-1.rds.amazonaws.com/CIS550DB'\n",
    "port = 1512\n",
    "encode = 'UTF-8'"
   ]
  },
  {
   "cell_type": "code",
   "execution_count": 6,
   "metadata": {},
   "outputs": [
    {
     "ename": "SyntaxError",
     "evalue": "EOL while scanning string literal (<ipython-input-6-9d34a7a2b983>, line 21)",
     "output_type": "error",
     "traceback": [
      "\u001b[0;36m  File \u001b[0;32m\"<ipython-input-6-9d34a7a2b983>\"\u001b[0;36m, line \u001b[0;32m21\u001b[0m\n\u001b[0;31m    WHERE dateID = 20060323) a \\\u001b[0m\n\u001b[0m                                 \n^\u001b[0m\n\u001b[0;31mSyntaxError\u001b[0m\u001b[0;31m:\u001b[0m EOL while scanning string literal\n"
     ]
    }
   ],
   "source": [
    "connection = None\n",
    "try:\n",
    "    connection = cx_Oracle.connect(\n",
    "        username,\n",
    "        password,\n",
    "        dsn)\n",
    "\n",
    "    # show the version of the Oracle Database\n",
    "    print('yay')\n",
    "    print(connection.version)\n",
    "    connection.cursor\n",
    "         \n",
    "except cx_Oracle.Error as error:\n",
    "    print(error)\n",
    "    connection.close()\n",
    "\n",
    "c = connection.cursor() \n",
    "c.execute('WITH Sears AS (SELECT (SHLDQ/AMOUNT) as adjusted_sears FROM (SELECT dateID, SHLDQ FROM Stocks s WHERE dateID = 20060323) a JOIN Dates d ON a.dateID = d.dateID \\\n",
    "JOIN Inflation i ON d.Year = i.Year), \\\n",
    "Valentino AS (SELECT (Valentino/AMOUNT) as adjusted_valentino \\\n",
    "FROM (SELECT dateID, Valentino \\\n",
    "FROM Commodities c \\\n",
    "WHERE dateID = 20060323) a \\\n",
    "JOIN Dates d ON a.dateID = d.dateID \\\n",
    "JOIN Inflation i ON d.Year = i.Year) \\\n",
    "SELECT GREATEST(v.adjusted_valentino, s.adjusted_sears) as higher_value \\\n",
    "FROM Sears s, Valentino v;') \n",
    "for i in c:\n",
    "    print(i)"
   ]
  },
  {
   "cell_type": "code",
   "execution_count": null,
   "metadata": {},
   "outputs": [],
   "source": []
  }
 ],
 "metadata": {
  "kernelspec": {
   "display_name": "Python 3",
   "language": "python",
   "name": "python3"
  },
  "language_info": {
   "codemirror_mode": {
    "name": "ipython",
    "version": 3
   },
   "file_extension": ".py",
   "mimetype": "text/x-python",
   "name": "python",
   "nbconvert_exporter": "python",
   "pygments_lexer": "ipython3",
   "version": "3.6.8"
  }
 },
 "nbformat": 4,
 "nbformat_minor": 2
}
